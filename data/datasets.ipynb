{
 "cells": [
  {
   "cell_type": "code",
   "execution_count": 1,
   "id": "efa5559c-407e-405f-8f73-f39efdabe40c",
   "metadata": {},
   "outputs": [],
   "source": [
    "import pandas as pd\n",
    "from datasets import Dataset, load_dataset, load_from_disk, ClassLabel\n",
    "import datasets"
   ]
  },
  {
   "cell_type": "code",
   "execution_count": 9,
   "id": "04f18784",
   "metadata": {},
   "outputs": [],
   "source": [
    "ds = load_from_disk('clue_ner_chartoken')"
   ]
  },
  {
   "cell_type": "code",
   "execution_count": 11,
   "id": "c644ac0b",
   "metadata": {},
   "outputs": [
    {
     "name": "stdout",
     "output_type": "stream",
     "text": [
      "{'tokens': ['那', '不', '勒', '斯', 'v', 's', '锡', '耶', '纳', '以', '及', '桑', '普', 'v', 's', '热', '那', '亚', '之', '上', '呢', '？'], 'labels': ['B-organization', 'I-organization', 'I-organization', 'I-organization', 'O', 'O', 'B-organization', 'I-organization', 'I-organization', 'O', 'O', 'B-organization', 'I-organization', 'O', 'O', 'B-organization', 'I-organization', 'I-organization', 'O', 'O', 'O', 'O']}\n"
     ]
    }
   ],
   "source": [
    "print(ds['train'][2])"
   ]
  },
  {
   "cell_type": "code",
   "execution_count": 12,
   "id": "29bb2ef5",
   "metadata": {},
   "outputs": [
    {
     "name": "stdout",
     "output_type": "stream",
     "text": [
      "  adding: clue_ner_chartoken/ (stored 0%)\n",
      "  adding: clue_ner_chartoken/train/ (stored 0%)\n",
      "  adding: clue_ner_chartoken/train/state.json (deflated 40%)\n",
      "  adding: clue_ner_chartoken/train/dataset_info.json (deflated 67%)\n",
      "  adding: clue_ner_chartoken/train/dataset.arrow (deflated 68%)\n",
      "  adding: clue_ner_chartoken/dataset_dict.json (stored 0%)\n",
      "  adding: clue_ner_chartoken/label2id.json (deflated 55%)\n",
      "  adding: clue_ner_chartoken/validation/ (stored 0%)\n",
      "  adding: clue_ner_chartoken/validation/state.json (deflated 40%)\n",
      "  adding: clue_ner_chartoken/validation/dataset_info.json (deflated 67%)\n",
      "  adding: clue_ner_chartoken/validation/dataset.arrow (deflated 66%)\n"
     ]
    }
   ],
   "source": [
    "!zip -r clue_ner_chartoken.zip clue_ner_chartoken"
   ]
  },
  {
   "cell_type": "code",
   "execution_count": 13,
   "id": "3ccb4f8b",
   "metadata": {},
   "outputs": [
    {
     "name": "stdout",
     "output_type": "stream",
     "text": [
      "  adding: clue_ner_charspan/ (stored 0%)\n",
      "  adding: clue_ner_charspan/train/ (stored 0%)\n",
      "  adding: clue_ner_charspan/train/state.json (deflated 40%)\n",
      "  adding: clue_ner_charspan/train/dataset_info.json (deflated 66%)\n",
      "  adding: clue_ner_charspan/train/dataset.arrow (deflated 54%)\n",
      "  adding: clue_ner_charspan/dataset_dict.json (stored 0%)\n",
      "  adding: clue_ner_charspan/validation/ (stored 0%)\n",
      "  adding: clue_ner_charspan/validation/state.json (deflated 41%)\n",
      "  adding: clue_ner_charspan/validation/dataset_info.json (deflated 66%)\n",
      "  adding: clue_ner_charspan/validation/dataset.arrow (deflated 51%)\n"
     ]
    }
   ],
   "source": [
    "!zip -r clue_ner_charspan.zip clue_ner_charspan"
   ]
  },
  {
   "cell_type": "code",
   "execution_count": 16,
   "id": "6c81ce9e",
   "metadata": {},
   "outputs": [
    {
     "data": {
      "text/plain": [
       "'引言：萝莉是洛丽塔的缩写，洛丽塔原指美国一部小说，后来在日本引申发展成一种次文化。'"
      ]
     },
     "execution_count": 16,
     "metadata": {},
     "output_type": "execute_result"
    }
   ],
   "source": [
    "''.join(['引', '言', '：', '萝', '莉', '是', '洛', '丽', '塔', '的', '缩', '写', '，', '洛', '丽', '塔', '原', '指', '美', '国', '一', '部', '小', '说', '，', '后', '来', '在', '日', '本', '引', '申', '发', '展', \n",
    "'成', '一', '种', '次', '文', '化', '。'])"
   ]
  },
  {
   "cell_type": "code",
   "execution_count": null,
   "id": "8a4dd172",
   "metadata": {},
   "outputs": [],
   "source": []
  }
 ],
 "metadata": {
  "interpreter": {
   "hash": "0ddff2849aab375ae0fd4b99e8a85b862ae377db9ed7ee27c4bfd51889afc517"
  },
  "kernelspec": {
   "display_name": "py38",
   "language": "python",
   "name": "python3"
  },
  "language_info": {
   "codemirror_mode": {
    "name": "ipython",
    "version": 3
   },
   "file_extension": ".py",
   "mimetype": "text/x-python",
   "name": "python",
   "nbconvert_exporter": "python",
   "pygments_lexer": "ipython3",
   "version": "3.8.8"
  }
 },
 "nbformat": 4,
 "nbformat_minor": 5
}
