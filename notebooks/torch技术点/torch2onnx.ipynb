{
 "cells": [
  {
   "cell_type": "markdown",
   "metadata": {},
   "source": [
    "### 构建一个文本二分类模型 并将其转换为onnx格式"
   ]
  },
  {
   "cell_type": "code",
   "execution_count": 43,
   "metadata": {},
   "outputs": [],
   "source": [
    "import torch\n",
    "from transformers import BertModel, BertTokenizer\n",
    "from time import time\n",
    "import onnxruntime\n",
    "import numpy as np\n",
    "import onnx"
   ]
  },
  {
   "cell_type": "code",
   "execution_count": 44,
   "metadata": {},
   "outputs": [
    {
     "name": "stderr",
     "output_type": "stream",
     "text": [
      "Some weights of the model checkpoint at bert-base-chinese were not used when initializing BertModel: ['cls.predictions.transform.dense.bias', 'cls.predictions.transform.dense.weight', 'cls.predictions.transform.LayerNorm.bias', 'cls.predictions.transform.LayerNorm.weight', 'cls.predictions.bias', 'cls.seq_relationship.weight', 'cls.predictions.decoder.weight', 'cls.seq_relationship.bias']\n",
      "- This IS expected if you are initializing BertModel from the checkpoint of a model trained on another task or with another architecture (e.g. initializing a BertForSequenceClassification model from a BertForPreTraining model).\n",
      "- This IS NOT expected if you are initializing BertModel from the checkpoint of a model that you expect to be exactly identical (initializing a BertForSequenceClassification model from a BertForSequenceClassification model).\n"
     ]
    }
   ],
   "source": [
    "class BertTextClassification(torch.nn.Module):\n",
    "    def __init__(self, model_path):\n",
    "        super(BertTextClassification, self).__init__()\n",
    "        self.bert = BertModel.from_pretrained(model_path)\n",
    "        self.classifier = torch.nn.Linear(self.bert.config.hidden_size, 2)\n",
    "\n",
    "    def forward(self, input_ids, token_type_ids, attention_mask):\n",
    "        cls = self.bert(input_ids=input_ids, token_type_ids=token_type_ids, attention_mask=attention_mask).pooler_output\n",
    "        logits = self.classifier(cls)\n",
    "        return logits\n",
    "tokenzier = BertTokenizer.from_pretrained('bert-base-chinese')\n",
    "model = BertTextClassification('bert-base-chinese')"
   ]
  },
  {
   "cell_type": "code",
   "execution_count": 45,
   "metadata": {},
   "outputs": [],
   "source": [
    "text = '我是中国人'\n",
    "torch_inputs = tokenzier(text, return_tensors='pt')\n",
    "dynamic_axes = {\n",
    "            'input_ids': {0: 'batch', 1: 'seq'},\n",
    "            'attention_mask': {0: 'batch', 1: 'seq'},\n",
    "            'token_type_ids': {0: 'batch', 1: 'seq'},\n",
    "        }\n",
    "model.eval()\n",
    "with torch.no_grad():\n",
    "    torch.onnx.export(\n",
    "        model=model,\n",
    "        args=tuple(torch_inputs.values()), \n",
    "        f='./model.onnx', \n",
    "        input_names=list(torch_inputs.keys()),\n",
    "        dynamic_axes=dynamic_axes, \n",
    "        opset_version=11,\n",
    "        output_names=['logits'],\n",
    "        export_params=True)\n"
   ]
  },
  {
   "cell_type": "code",
   "execution_count": 47,
   "metadata": {},
   "outputs": [],
   "source": [
    "ort_session = onnxruntime.InferenceSession('./model.onnx')"
   ]
  },
  {
   "cell_type": "code",
   "execution_count": 48,
   "metadata": {},
   "outputs": [
    {
     "name": "stdout",
     "output_type": "stream",
     "text": [
      "input_ids\n",
      "token_type_ids\n",
      "attention_mask\n",
      "logits\n"
     ]
    }
   ],
   "source": [
    "for i in ort_session.get_inputs():\n",
    "    print(i.name)\n",
    "for i in ort_session.get_outputs():\n",
    "    print(i.name)\n"
   ]
  },
  {
   "cell_type": "code",
   "execution_count": 49,
   "metadata": {},
   "outputs": [
    {
     "data": {
      "text/plain": [
       "tensor([[-0.2583,  0.2475]], grad_fn=<AddmmBackward0>)"
      ]
     },
     "execution_count": 49,
     "metadata": {},
     "output_type": "execute_result"
    }
   ],
   "source": [
    "model(**torch_inputs)"
   ]
  },
  {
   "cell_type": "code",
   "execution_count": 50,
   "metadata": {},
   "outputs": [
    {
     "data": {
      "text/plain": [
       "[array([[-0.25828335,  0.2475062 ]], dtype=float32)]"
      ]
     },
     "execution_count": 50,
     "metadata": {},
     "output_type": "execute_result"
    }
   ],
   "source": [
    "ort_inputs = {i.name: torch_inputs[i.name].detach().numpy() for i in ort_session.get_inputs()}\n",
    "ort_session.run(None, ort_inputs)"
   ]
  }
 ],
 "metadata": {
  "interpreter": {
   "hash": "fd131b0cbadea90dff19ab717cdf3ccb31cb4d300e98013e350b223a65895fcf"
  },
  "kernelspec": {
   "display_name": "Python 3.8.8 ('py38')",
   "language": "python",
   "name": "python3"
  },
  "language_info": {
   "codemirror_mode": {
    "name": "ipython",
    "version": 3
   },
   "file_extension": ".py",
   "mimetype": "text/x-python",
   "name": "python",
   "nbconvert_exporter": "python",
   "pygments_lexer": "ipython3",
   "version": "3.8.12"
  },
  "orig_nbformat": 4
 },
 "nbformat": 4,
 "nbformat_minor": 2
}
