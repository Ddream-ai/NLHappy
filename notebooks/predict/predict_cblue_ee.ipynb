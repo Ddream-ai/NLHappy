{
 "cells": [
  {
   "cell_type": "code",
   "execution_count": 27,
   "id": "99d3a5c7-ced5-4c38-ba84-aa8eee1842da",
   "metadata": {},
   "outputs": [],
   "source": [
    "from src.models import BERTGlobalPointer\n",
    "import torch\n",
    "import numpy as np\n",
    "import spacy\n",
    "from spacy.lang.zh import Chinese\n",
    "import srsly\n",
    "from tqdm import tqdm"
   ]
  },
  {
   "cell_type": "code",
   "execution_count": 41,
   "id": "6e36d27d-2207-495b-85ce-04c668b43f36",
   "metadata": {},
   "outputs": [],
   "source": [
    "model = BERTGlobalPointer.load_from_checkpoint('/home/vhels/project/deep-lab/logs/experiments/CMEee_charspan/runs/2022-01-23/10-11-26/checkpoints/epoch08_0.660.ckpt')"
   ]
  },
  {
   "cell_type": "code",
   "execution_count": 3,
   "id": "48fec964-c80c-43f3-aa2f-3453cc915a69",
   "metadata": {},
   "outputs": [],
   "source": [
    "# model.freeze()"
   ]
  },
  {
   "cell_type": "code",
   "execution_count": 4,
   "id": "2b1fb7f4-1b61-4176-b3af-0abbd1fe2d50",
   "metadata": {},
   "outputs": [],
   "source": [
    "# spans = model.predict('（5）房室结消融和起搏器植入作为反复发作或难治性心房内折返性心动过速的替代疗法。')\n",
    "# spans"
   ]
  },
  {
   "cell_type": "code",
   "execution_count": 5,
   "id": "80ab587b-8a27-44c7-84ab-242f2b818d17",
   "metadata": {},
   "outputs": [],
   "source": [
    "nlp = spacy.blank('zh')\n",
    "sentcut = nlp.add_pipe('sentencizer')\n",
    "sentcut.punct_chars.add(';')\n",
    "sentcut.punct_chars.add('；')"
   ]
  },
  {
   "cell_type": "code",
   "execution_count": 6,
   "id": "ec021f2b-5125-48f9-b207-972b2031d723",
   "metadata": {},
   "outputs": [],
   "source": [
    "class SentSpancat:\n",
    "    def __init__(self, ckpt):\n",
    "        self.model = BERTGlobalPointer.load_from_checkpoint(ckpt)\n",
    "        self.model.freeze()\n",
    "        \n",
    "    def __call__(self, doc):\n",
    "        all_spans = []\n",
    "        for sent in doc.sents:\n",
    "            spans = self.model.predict(sent.text)\n",
    "            for span in spans:\n",
    "                s = sent.char_span(span[0], span[1]+1, span[2])\n",
    "                all_spans.append(s)\n",
    "        doc.spans['all'] = all_spans\n",
    "        return doc\n",
    "@Chinese.factory('sent_spancat')\n",
    "def make_spancat(nlp, name):\n",
    "    return SentSpancat(ckpt='/home/vhels/project/deep-lab/logs/experiments/CMEee_charspan/runs/2022-01-23/10-11-26/checkpoints/epoch08_0.660.ckpt')"
   ]
  },
  {
   "cell_type": "code",
   "execution_count": 7,
   "id": "0dc0f0e4-91e4-4ec0-a6c0-98221d8d3d55",
   "metadata": {},
   "outputs": [
    {
     "data": {
      "text/plain": [
       "<__main__.SentSpancat at 0x7f0a18ad6160>"
      ]
     },
     "execution_count": 7,
     "metadata": {},
     "output_type": "execute_result"
    }
   ],
   "source": [
    "nlp.add_pipe('sent_spancat')"
   ]
  },
  {
   "cell_type": "code",
   "execution_count": 9,
   "id": "cba5d3a2-ec3f-42a3-b8ae-5da61f039e66",
   "metadata": {},
   "outputs": [],
   "source": [
    "doc = nlp('（5）房室结消融和起搏器植入作为反复发作或难治性心房内折返性心动过速的替代疗法。')"
   ]
  },
  {
   "cell_type": "code",
   "execution_count": 10,
   "id": "850192bf-2d37-469a-9a95-287e0132d313",
   "metadata": {},
   "outputs": [
    {
     "data": {
      "text/plain": [
       "{'all': [反复发作或难治性心房内折返性心动过速, 房室结消融, 起搏器植入]}"
      ]
     },
     "execution_count": 10,
     "metadata": {},
     "output_type": "execute_result"
    }
   ],
   "source": [
    "doc.spans"
   ]
  },
  {
   "cell_type": "code",
   "execution_count": 28,
   "id": "bf3307a1-4c8c-4a30-95b5-0a81e45f465d",
   "metadata": {},
   "outputs": [],
   "source": [
    "test_data = srsly.read_json('data/CMeEE_test.json')"
   ]
  },
  {
   "cell_type": "code",
   "execution_count": 36,
   "id": "7f8d32c5-b299-49e4-aaa8-83644ffe1cc1",
   "metadata": {},
   "outputs": [
    {
     "name": "stderr",
     "output_type": "stream",
     "text": [
      "100%|██████████| 3000/3000 [05:15<00:00,  9.51it/s]\n"
     ]
    }
   ],
   "source": [
    "new_data = []\n",
    "for d in tqdm(test_data):\n",
    "    d['entities'] = []\n",
    "    doc = nlp(d['text'])\n",
    "    spans = doc.spans['all']\n",
    "    for span in spans:\n",
    "        d['entities'].append({'start_idx':span.start_char, 'end_idx':span.end_char-1, 'type':span.label_, 'entity':span.text})\n",
    "    new_data.append(d)"
   ]
  },
  {
   "cell_type": "code",
   "execution_count": 38,
   "id": "084ae2c6-cc08-4e71-9bc2-ffcc8a40b47b",
   "metadata": {},
   "outputs": [],
   "source": [
    "srsly.write_json('CMeEE_test.json', new_data)"
   ]
  },
  {
   "cell_type": "code",
   "execution_count": 39,
   "id": "2c02cb7d-94a1-4db0-8549-d03d609fbdc0",
   "metadata": {},
   "outputs": [
    {
     "name": "stdout",
     "output_type": "stream",
     "text": [
      "  adding: CMeEE_test.json (deflated 86%)\n"
     ]
    }
   ],
   "source": [
    "!zip CMeEE_test.zip CMeEE_test.json"
   ]
  },
  {
   "cell_type": "code",
   "execution_count": 37,
   "id": "57f9fd82-c6bf-4939-ae06-c5d1fe6766c2",
   "metadata": {},
   "outputs": [
    {
     "data": {
      "text/plain": [
       "{'text': '六、新生儿疾病筛查的发展趋势自1961年开展苯丙酮尿症筛查以来，随着医学技术的发展，符合进行新生儿疾病筛查标准的疾病也在不断增加，无论在新生儿疾病筛查的病种，还是在新生儿疾病筛查的技术方法上，都有了非常显著的进步。',\n",
       " 'entities': [{'start_idx': 2,\n",
       "   'end_idx': 8,\n",
       "   'type': 'pro',\n",
       "   'entity': '新生儿疾病筛查'},\n",
       "  {'start_idx': 22, 'end_idx': 28, 'type': 'pro', 'entity': '苯丙酮尿症筛查'},\n",
       "  {'start_idx': 46, 'end_idx': 52, 'type': 'pro', 'entity': '新生儿疾病筛查'},\n",
       "  {'start_idx': 68, 'end_idx': 74, 'type': 'pro', 'entity': '新生儿疾病筛查'},\n",
       "  {'start_idx': 82, 'end_idx': 88, 'type': 'pro', 'entity': '新生儿疾病筛查'}]}"
      ]
     },
     "execution_count": 37,
     "metadata": {},
     "output_type": "execute_result"
    }
   ],
   "source": [
    "new_data[0]"
   ]
  },
  {
   "cell_type": "code",
   "execution_count": 44,
   "id": "25d2fb40-f8f0-449b-a491-43e3fc0eefed",
   "metadata": {},
   "outputs": [
    {
     "data": {
      "text/plain": [
       "\"batch_size\":       12\n",
       "\"data_dir\":         /home/vhels/project/deep-lab/data/\n",
       "\"dataset\":          cblue_ee_charspan\n",
       "\"dropout\":          0.2\n",
       "\"hidden_size\":      256\n",
       "\"label2id\":         {'bod': 0, 'dep': 1, 'dis': 2, 'dru': 3, 'equ': 4, 'ite': 5, 'mic': 6, 'pro': 7, 'sym': 8}\n",
       "\"lr\":               3e-05\n",
       "\"max_length\":       420\n",
       "\"num_workers\":      10\n",
       "\"pin_memory\":       True\n",
       "\"pretrained_dir\":   /home/vhels/project/deep-lab/pretrained_models/\n",
       "\"pretrained_model\": chinese-roberta-wwm-ext\n",
       "\"storer\":           oss\n",
       "\"weight_decay\":     0.0"
      ]
     },
     "execution_count": 44,
     "metadata": {},
     "output_type": "execute_result"
    }
   ],
   "source": [
    "model.hparams"
   ]
  },
  {
   "cell_type": "code",
   "execution_count": null,
   "id": "fb847087-86f5-4b20-af1e-8bc89887298e",
   "metadata": {},
   "outputs": [],
   "source": []
  }
 ],
 "metadata": {
  "kernelspec": {
   "display_name": "py38",
   "language": "python",
   "name": "py38"
  },
  "language_info": {
   "codemirror_mode": {
    "name": "ipython",
    "version": 3
   },
   "file_extension": ".py",
   "mimetype": "text/x-python",
   "name": "python",
   "nbconvert_exporter": "python",
   "pygments_lexer": "ipython3",
   "version": "3.8.8"
  }
 },
 "nbformat": 4,
 "nbformat_minor": 5
}
