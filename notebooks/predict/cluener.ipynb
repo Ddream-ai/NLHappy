{
 "cells": [
  {
   "cell_type": "code",
   "execution_count": 1,
   "metadata": {},
   "outputs": [],
   "source": [
    "from src.models import BertCRF\n",
    "from transformers import BertTokenizer\n",
    "import srsly\n",
    "from tqdm import tqdm\n",
    "from addict import Dict "
   ]
  },
  {
   "cell_type": "code",
   "execution_count": 26,
   "metadata": {},
   "outputs": [],
   "source": [
    "model = BertCRF.load_from_checkpoint('/home/vhels/project/deep-lab/logs/experiments/clue_ner_chartoken/runs/2022-01-21/18-43-07/checkpoints/epoch02_0.810.ckpt')"
   ]
  },
  {
   "cell_type": "code",
   "execution_count": 3,
   "metadata": {},
   "outputs": [],
   "source": [
    "test_data = list(srsly.read_jsonl('./notebooks/process_data/cluener/test.json'))"
   ]
  },
  {
   "cell_type": "code",
   "execution_count": 18,
   "metadata": {},
   "outputs": [],
   "source": [
    "def predict_clue(model, data):\n",
    "    all_res = []\n",
    "    for d in tqdm(data):\n",
    "        res = Dict()\n",
    "        res.id = d['id']\n",
    "        res.text = d['text']\n",
    "        ents = model.predict(d['text'])\n",
    "        for ent in ents:\n",
    "            type = ent[0]\n",
    "            start = ent[1]\n",
    "            end = ent[2]\n",
    "            text = ent[3]\n",
    "            res['label'][type][text] = []\n",
    "        for ent in ents:\n",
    "            type = ent[0]\n",
    "            start = ent[1]\n",
    "            end = ent[2]\n",
    "            text = ent[3]\n",
    "            res['label'][type][text].append([start, end])\n",
    "        \n",
    "        all_res.append(res.to_dict())\n",
    "    return all_res\n",
    "\n",
    "\n"
   ]
  },
  {
   "cell_type": "code",
   "execution_count": 27,
   "metadata": {},
   "outputs": [
    {
     "name": "stderr",
     "output_type": "stream",
     "text": [
      "100%|██████████| 1345/1345 [04:43<00:00,  4.74it/s]\n"
     ]
    }
   ],
   "source": [
    "all_res = predict_clue(model, test_data)"
   ]
  },
  {
   "cell_type": "code",
   "execution_count": 32,
   "metadata": {},
   "outputs": [
    {
     "data": {
      "text/plain": [
       "{'id': 4, 'label': {'game': {'《迷失》': [[13, 16]]}}}"
      ]
     },
     "execution_count": 32,
     "metadata": {},
     "output_type": "execute_result"
    }
   ],
   "source": [
    "all_res[4]"
   ]
  },
  {
   "cell_type": "code",
   "execution_count": 33,
   "metadata": {},
   "outputs": [],
   "source": [
    "srsly.write_jsonl('cluener_predict.json', all_res)"
   ]
  },
  {
   "cell_type": "code",
   "execution_count": 37,
   "metadata": {},
   "outputs": [
    {
     "data": {
      "text/plain": [
       "{'id': 2, 'label': {'game': {'辐射3': [[5, 7]], 'Bethesda': [[9, 16]]}}}"
      ]
     },
     "execution_count": 37,
     "metadata": {},
     "output_type": "execute_result"
    }
   ],
   "source": [
    "p[2]"
   ]
  },
  {
   "cell_type": "code",
   "execution_count": 38,
   "metadata": {},
   "outputs": [
    {
     "name": "stdout",
     "output_type": "stream",
     "text": [
      "  adding: cluener_predict.json (deflated 76%)\n"
     ]
    }
   ],
   "source": [
    "!zip -r cluener_predict.zip cluener_predict.json"
   ]
  },
  {
   "cell_type": "code",
   "execution_count": null,
   "metadata": {},
   "outputs": [],
   "source": []
  }
 ],
 "metadata": {
  "interpreter": {
   "hash": "fd131b0cbadea90dff19ab717cdf3ccb31cb4d300e98013e350b223a65895fcf"
  },
  "kernelspec": {
   "display_name": "Python 3.8.8 64-bit ('py38': conda)",
   "language": "python",
   "name": "python3"
  },
  "language_info": {
   "codemirror_mode": {
    "name": "ipython",
    "version": 3
   },
   "file_extension": ".py",
   "mimetype": "text/x-python",
   "name": "python",
   "nbconvert_exporter": "python",
   "pygments_lexer": "ipython3",
   "version": "3.8.8"
  },
  "orig_nbformat": 4
 },
 "nbformat": 4,
 "nbformat_minor": 2
}
