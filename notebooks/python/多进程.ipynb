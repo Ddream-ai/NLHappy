{
 "cells": [
  {
   "cell_type": "code",
   "execution_count": 1,
   "id": "e82d16bd",
   "metadata": {},
   "outputs": [],
   "source": [
    "import multiprocessing as mp\n",
    "import random"
   ]
  },
  {
   "cell_type": "code",
   "execution_count": 2,
   "id": "768283c7",
   "metadata": {},
   "outputs": [],
   "source": [
    "def cal_pi(n):\n",
    "    t = 0\n",
    "    for _ in range(n):\n",
    "        x, y = random.random(), random.random()\n",
    "        if x**2 + y**2 < 1:\n",
    "            t += 1\n",
    "    return t / n * 4\n"
   ]
  },
  {
   "cell_type": "code",
   "execution_count": 3,
   "id": "8c9f4dec",
   "metadata": {},
   "outputs": [
    {
     "name": "stdout",
     "output_type": "stream",
     "text": [
      "3.1418772000000006\n",
      "CPU times: user 3.74 s, sys: 4.72 ms, total: 3.75 s\n",
      "Wall time: 3.74 s\n"
     ]
    }
   ],
   "source": [
    "%%time \n",
    "pi = 0 \n",
    "for i in range(10):\n",
    "    pi += cal_pi(100_0000)\n",
    "print(pi/10)"
   ]
  },
  {
   "cell_type": "code",
   "execution_count": 12,
   "id": "811188ca",
   "metadata": {},
   "outputs": [
    {
     "name": "stdout",
     "output_type": "stream",
     "text": [
      "CPU times: user 3 µs, sys: 2 µs, total: 5 µs\n",
      "Wall time: 7.63 µs\n"
     ]
    }
   ],
   "source": [
    "%%time\n",
    "def get_res(n):\n",
    "    def multi_cal_pi(n):\n",
    "        res = mp.Pool(mp.cpu_count()).map(func=cal_pi, iterable=[n]*10)\n",
    "        return sum(res) / 10 \n",
    "    return multi_cal_pi(n)"
   ]
  },
  {
   "cell_type": "code",
   "execution_count": 13,
   "id": "cc255116",
   "metadata": {},
   "outputs": [
    {
     "name": "stdout",
     "output_type": "stream",
     "text": [
      "CPU times: user 34.9 ms, sys: 136 ms, total: 170 ms\n",
      "Wall time: 597 ms\n"
     ]
    },
    {
     "data": {
      "text/plain": [
       "3.1418324"
      ]
     },
     "execution_count": 13,
     "metadata": {},
     "output_type": "execute_result"
    }
   ],
   "source": [
    "%%time \n",
    "get_res(n=100_0000)"
   ]
  },
  {
   "cell_type": "code",
   "execution_count": null,
   "id": "dfd14efd",
   "metadata": {},
   "outputs": [],
   "source": []
  }
 ],
 "metadata": {
  "interpreter": {
   "hash": "d102fadff02a6271cee6766bc20695ef7b47d037135c59ec3b332e46e064200a"
  },
  "kernelspec": {
   "display_name": "py38",
   "language": "python",
   "name": "python3"
  },
  "language_info": {
   "codemirror_mode": {
    "name": "ipython",
    "version": 3
   },
   "file_extension": ".py",
   "mimetype": "text/x-python",
   "name": "python",
   "nbconvert_exporter": "python",
   "pygments_lexer": "ipython3",
   "version": "3.8.8"
  }
 },
 "nbformat": 4,
 "nbformat_minor": 5
}
