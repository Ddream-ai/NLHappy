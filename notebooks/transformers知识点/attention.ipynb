{
 "cells": [
  {
   "cell_type": "markdown",
   "metadata": {
    "tags": []
   },
   "source": [
    "## 为什么是要除以一个d_k(scaled)?\n",
    "- 本质是为了稳定梯度流\n",
    "- 因为softmax在"
   ]
  },
  {
   "cell_type": "markdown",
   "metadata": {
    "jp-MarkdownHeadingCollapsed": true,
    "tags": []
   },
   "source": [
    "### 首先对于两个独立的标准正太分布q, k 它的均值为0, 方差为1"
   ]
  },
  {
   "cell_type": "code",
   "execution_count": 29,
   "metadata": {},
   "outputs": [
    {
     "name": "stdout",
     "output_type": "stream",
     "text": [
      "均值 tensor(-0.0349)\n",
      "方差 tensor(1.0463)\n"
     ]
    }
   ],
   "source": [
    "import torch\n",
    "import torch.nn.functional as F\n",
    "import matplotlib.pyplot as plt\n",
    "q  = torch.randn(1, 5, 200)\n",
    "k = torch.randn(1, 5, 200)\n",
    "print('均值', torch.mean(q))\n",
    "print('方差', torch.var(q))"
   ]
  },
  {
   "cell_type": "markdown",
   "metadata": {
    "jp-MarkdownHeadingCollapsed": true,
    "tags": []
   },
   "source": [
    "### 点积之后的方差会变大"
   ]
  },
  {
   "cell_type": "code",
   "execution_count": 30,
   "metadata": {},
   "outputs": [
    {
     "data": {
      "text/plain": [
       "tensor(158.0351)"
      ]
     },
     "execution_count": 30,
     "metadata": {},
     "output_type": "execute_result"
    }
   ],
   "source": [
    "logits = torch.matmul(q, k.transpose(1, 2))\n",
    "logits.var()"
   ]
  },
  {
   "cell_type": "code",
   "execution_count": 270,
   "metadata": {},
   "outputs": [
    {
     "data": {
      "text/plain": [
       "tensor(7613.2290)"
      ]
     },
     "execution_count": 270,
     "metadata": {},
     "output_type": "execute_result"
    }
   ],
   "source": [
    "torch.matmul(q, q.transpose(1, 2)).var()"
   ]
  },
  {
   "cell_type": "markdown",
   "metadata": {
    "jp-MarkdownHeadingCollapsed": true,
    "tags": []
   },
   "source": [
    "### 除以 $\\sqrt{d_k}$ 方差就会变小, 进而不会出现非常大的值"
   ]
  },
  {
   "cell_type": "code",
   "execution_count": 31,
   "metadata": {},
   "outputs": [],
   "source": [
    "scaled = logits / torch.sqrt(torch.tensor(200))"
   ]
  },
  {
   "cell_type": "code",
   "execution_count": 32,
   "metadata": {},
   "outputs": [
    {
     "data": {
      "text/plain": [
       "tensor(0.7902)"
      ]
     },
     "execution_count": 32,
     "metadata": {},
     "output_type": "execute_result"
    }
   ],
   "source": [
    "scaled.var()"
   ]
  },
  {
   "cell_type": "markdown",
   "metadata": {
    "jp-MarkdownHeadingCollapsed": true,
    "tags": []
   },
   "source": [
    "### 因为softmax在输入数量级比较大的时候会把全部概率分配给最大的值\n",
    "- 假设输入为$x = [a, a, 2a]$"
   ]
  },
  {
   "cell_type": "code",
   "execution_count": 43,
   "metadata": {},
   "outputs": [],
   "source": [
    "x = torch.linspace(0, 100, 100)\n",
    "f = lambda x: torch.exp(x * 2) / (torch.exp(x) + torch.exp(x) + torch.exp(x * 2))\n",
    "y = [f(x_i) for x_i in x]"
   ]
  },
  {
   "cell_type": "code",
   "execution_count": 45,
   "metadata": {},
   "outputs": [
    {
     "data": {
      "text/plain": [
       "[<matplotlib.lines.Line2D at 0x7f5ee39580d0>]"
      ]
     },
     "execution_count": 45,
     "metadata": {},
     "output_type": "execute_result"
    },
    {
     "data": {
      "image/png": "[encoded data removed]",
      "text/plain": [
       "<Figure size 432x288 with 1 Axes>"
      ]
     },
     "metadata": {
      "needs_background": "light"
     },
     "output_type": "display_data"
    }
   ],
   "source": [
    "plt.plot(x, y)   # 可以看到softmax将所有概率给了2a"
   ]
  },
  {
   "cell_type": "markdown",
   "metadata": {
    "jp-MarkdownHeadingCollapsed": true,
    "tags": []
   },
   "source": [
    "### 也就是说softmax在输入数量级比较大的时候, 梯度会很小(消失)"
   ]
  },
  {
   "cell_type": "code",
   "execution_count": 254,
   "metadata": {},
   "outputs": [],
   "source": [
    "#对比实验\n",
    "class MulAttention(torch.nn.Module):\n",
    "    def __init__(self, scale):\n",
    "        super().__init__()\n",
    "        self.scale =scale\n",
    "    def forward(self, q, k, v):\n",
    "        logits = torch.matmul(q, k.transpose(-2, -1)) / self.scale\n",
    "        scores = F.softmax(logits, dim=-1)\n",
    "        output = torch.matmul(scores, v)\n",
    "        return output\n",
    "        \n",
    "\n",
    "class AttentionModel(torch.nn.Module):\n",
    "    def __init__(self, dim, scale):\n",
    "        super().__init__()\n",
    "        self.dim = dim\n",
    "        self.scale = torch.tensor(scale)\n",
    "        self.attentions = torch.nn.ModuleList([MulAttention(self.scale) for _ in range(12)])\n",
    "        self.classifier = torch.nn.Linear(dim, 10)\n",
    "\n",
    "    def forward(self, x, q, k, v):\n",
    "        for attn in self.attentions:\n",
    "            x = attn(x)\n",
    "        print(x.shape)\n",
    "        logits = self.classifier(x)\n",
    "        return logits"
   ]
  },
  {
   "cell_type": "code",
   "execution_count": 279,
   "metadata": {},
   "outputs": [],
   "source": [
    "x1 = torch.randn(10, 100, requires_grad=True)\n",
    "x2 = torch.randn(10, 10000, requires_grad=True)"
   ]
  },
  {
   "cell_type": "code",
   "execution_count": 285,
   "metadata": {},
   "outputs": [],
   "source": [
    "model = AttentionModel(dim=100, scale=1)"
   ]
  },
  {
   "cell_type": "code",
   "execution_count": 286,
   "metadata": {},
   "outputs": [
    {
     "name": "stdout",
     "output_type": "stream",
     "text": [
      "torch.Size([10, 100])\n"
     ]
    }
   ],
   "source": [
    "y = model(x1)\n",
    "loss = torch.nn.CrossEntropyLoss()(y, torch.tensor([0,1,2,3,3,4,4,5,2,4]))\n",
    "loss.backward()"
   ]
  },
  {
   "cell_type": "code",
   "execution_count": 287,
   "metadata": {},
   "outputs": [
    {
     "data": {
      "text/plain": [
       "[tensor(0.0023),\n",
       " tensor(0.0023),\n",
       " tensor(0.0024),\n",
       " tensor(0.0020),\n",
       " tensor(0.0023),\n",
       " tensor(0.0023),\n",
       " tensor(0.0025),\n",
       " tensor(0.0022),\n",
       " tensor(0.0024),\n",
       " tensor(0.0026)]"
      ]
     },
     "execution_count": 287,
     "metadata": {},
     "output_type": "execute_result"
    }
   ],
   "source": [
    "[torch.max(grad) for grad in x2.grad]"
   ]
  },
  {
   "cell_type": "code",
   "execution_count": 283,
   "metadata": {},
   "outputs": [],
   "source": [
    "model = AttentionModel(dim=10000, scale=1)"
   ]
  },
  {
   "cell_type": "code",
   "execution_count": 284,
   "metadata": {},
   "outputs": [
    {
     "name": "stdout",
     "output_type": "stream",
     "text": [
      "torch.Size([10, 10000])\n"
     ]
    }
   ],
   "source": [
    "y = model(x2)\n",
    "loss = torch.nn.CrossEntropyLoss()(y, torch.tensor([0,1,2,3,3,4,4,5,2,4]))\n",
    "loss.backward()"
   ]
  },
  {
   "cell_type": "code",
   "execution_count": 278,
   "metadata": {},
   "outputs": [
    {
     "data": {
      "text/plain": [
       "[tensor(0.0044),\n",
       " tensor(0.0054),\n",
       " tensor(0.0041),\n",
       " tensor(0.0037),\n",
       " tensor(0.0043),\n",
       " tensor(0.0043),\n",
       " tensor(0.0041),\n",
       " tensor(0.0043),\n",
       " tensor(0.0046),\n",
       " tensor(0.0046)]"
      ]
     },
     "execution_count": 278,
     "metadata": {},
     "output_type": "execute_result"
    }
   ],
   "source": [
    "[torch.max(torch.abs(grad)) for grad in x2.grad]"
   ]
  },
  {
   "cell_type": "code",
   "execution_count": 290,
   "metadata": {},
   "outputs": [
    {
     "name": "stdout",
     "output_type": "stream",
     "text": [
      "[0.16563217565858068, 0.026832742169559998, 0.03760569444895312, 0.24645576721826684, 0.24687804603104316]\n",
      "[0.00011828531697377631, 0.1822529814293652, 5.457536644826178e-10, 1.3216094885137863e-12, 9.595268468665097e-09]\n",
      "[0.07254351566421828, 0.08783516871558304, 0.13096732398840355, 0.11687844761880893, 0.07965179714885315]\n",
      "[0.1135116952703806, 0.13463629554899875, 0.23014945460707764, 0.09522641492313243, 0.07154209877134614]\n"
     ]
    }
   ],
   "source": [
    "from scipy.special import softmax\n",
    "import numpy as np\n",
    "\n",
    "def test_gradient(dim, time_steps=50, scale=1.0):\n",
    "    # Assume components of the query and keys are drawn from N(0, 1) independently\n",
    "    q = np.random.randn(dim)\n",
    "    ks = np.random.randn(time_steps, dim)\n",
    "    x = np.sum(q * ks, axis=1) / scale  # x.shape = (time_steps,) \n",
    "    y = softmax(x)\n",
    "    grad = np.diag(y) - np.outer(y, y)\n",
    "    return np.max(np.abs(grad))  # the maximum component of gradients\n",
    "\n",
    "NUMBER_OF_EXPERIMENTS = 5\n",
    "# results of 5 random runs without scaling\n",
    "print([test_gradient(100) for _ in range(NUMBER_OF_EXPERIMENTS)])\n",
    "print([test_gradient(1000) for _ in range(NUMBER_OF_EXPERIMENTS)])\n",
    "\n",
    "# results of 5 random runs with scaling\n",
    "print([test_gradient(100, scale=np.sqrt(100)) for _ in range(NUMBER_OF_EXPERIMENTS)])\n",
    "print([test_gradient(1000, scale=np.sqrt(1000)) for _ in range(NUMBER_OF_EXPERIMENTS)])"
   ]
  },
  {
   "cell_type": "code",
   "execution_count": null,
   "metadata": {},
   "outputs": [],
   "source": []
  }
 ],
 "metadata": {
  "interpreter": {
   "hash": "dcbdf8897def68fcf57029bac2d67dba4d31d00a95ecaaebbb0a8aa84392f456"
  },
  "kernelspec": {
   "display_name": "py38",
   "language": "python",
   "name": "py38"
  },
  "language_info": {
   "codemirror_mode": {
    "name": "ipython",
    "version": 3
   },
   "file_extension": ".py",
   "mimetype": "text/x-python",
   "name": "python",
   "nbconvert_exporter": "python",
   "pygments_lexer": "ipython3",
   "version": "3.8.8"
  },
  "toc-autonumbering": false,
  "toc-showmarkdowntxt": false
 },
 "nbformat": 4,
 "nbformat_minor": 4
}
