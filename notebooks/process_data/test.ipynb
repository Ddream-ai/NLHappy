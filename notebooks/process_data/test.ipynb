{
 "cells": [
  {
   "cell_type": "code",
   "execution_count": 1,
   "id": "c078bcbe-e57d-49d5-b538-7b985afc9cd6",
   "metadata": {},
   "outputs": [],
   "source": [
    "from datasets import load_from_disk, ClassLabel, load_metric\n",
    "import srsly\n",
    "import torch\n",
    "from spacy.training import Example"
   ]
  },
  {
   "cell_type": "code",
   "execution_count": 2,
   "id": "ad8fe12c-46a2-4eb2-b616-1482f9225c35",
   "metadata": {},
   "outputs": [
    {
     "name": "stderr",
     "output_type": "stream",
     "text": [
      "Using the latest cached version of the module from /home/vhels/.cache/huggingface/modules/datasets_modules/metrics/seqeval/1fde2544ac1f3f7e54c639c73221d3a5e5377d2213b9b0fdb579b96980b84b2e (last modified on Mon Jan 10 08:09:08 2022) since it couldn't be found locally at seqeval, or remotely on the Hugging Face Hub.\n"
     ]
    }
   ],
   "source": [
    "seqeval = load_metric('seqeval')"
   ]
  },
  {
   "cell_type": "code",
   "execution_count": 3,
   "id": "16111af7-9973-481a-8177-4a0a04e85524",
   "metadata": {},
   "outputs": [],
   "source": [
    "predictions = [['B-position', 'I-game', 'B-position', 'B-position', 'B-position', \n",
    "'B-position', 'B-book', 'B-book', 'B-book', 'B-book', 'B-book', 'B-book', 'B-position', 'B-position', 'I-game', 'B-position', 'B-book', 'B-position', 'I-game', \n",
    "'I-game', 'I-government', 'B-book', 'I-game', 'B-book', 'I-game', 'I-game'], ['B-position', 'B-position', 'B-address', 'B-address', 'B-position', 'B-position', \n",
    "'B-position', 'B-position', 'B-position', 'B-position', 'B-book', 'B-position', 'B-position', 'B-position', 'B-position', 'B-position', 'B-position', \n",
    "'B-position', 'B-book', 'B-position', 'B-position', 'B-position']]\n",
    "references = [['B-scene', 'I-scene', 'O', 'B-scene', 'I-scene', 'I-scene', 'I-scene', 'O', 'O', 'O', 'O', 'O', 'O', 'O', 'O', 'O', 'O', 'O', 'O', 'O', 'O', 'O', 'O', 'O', \n",
    "'O', 'O'], ['B-organization', 'I-organization', 'I-organization', 'I-organization', 'I-organization', 'I-organization', 'I-organization', 'O', 'O', 'O', 'O', \n",
    "'O', 'B-game', 'I-game', 'I-game', 'I-game', 'I-game', 'I-game', 'I-game', 'O', 'O', 'O']]"
   ]
  },
  {
   "cell_type": "code",
   "execution_count": 5,
   "id": "9e546b96-6558-4dda-8c9c-64557e3c5fec",
   "metadata": {},
   "outputs": [
    {
     "data": {
      "text/plain": [
       "26"
      ]
     },
     "execution_count": 5,
     "metadata": {},
     "output_type": "execute_result"
    }
   ],
   "source": [
    "len(predictions[0])"
   ]
  },
  {
   "cell_type": "code",
   "execution_count": 7,
   "id": "04253c6e-3a55-4def-a7f3-99134f361ab4",
   "metadata": {},
   "outputs": [],
   "source": [
    "scores = seqeval.compute(predictions=predictions, references=references)"
   ]
  },
  {
   "cell_type": "code",
   "execution_count": 71,
   "id": "211b0a7f-2431-46fd-ae8a-7029b524043f",
   "metadata": {},
   "outputs": [
    {
     "data": {
      "text/plain": [
       "{'address': {'precision': 0.0, 'recall': 0.0, 'f1': 0.0, 'number': 0},\n",
       " 'book': {'precision': 0.0, 'recall': 0.0, 'f1': 0.0, 'number': 0},\n",
       " 'game': {'precision': 0.0, 'recall': 0.0, 'f1': 0.0, 'number': 1},\n",
       " 'government': {'precision': 0.0, 'recall': 0.0, 'f1': 0.0, 'number': 0},\n",
       " 'organization': {'precision': 0.0, 'recall': 0.0, 'f1': 0.0, 'number': 1},\n",
       " 'position': {'precision': 0.0, 'recall': 0.0, 'f1': 0.0, 'number': 0},\n",
       " 'scene': {'precision': 0.0, 'recall': 0.0, 'f1': 0.0, 'number': 2},\n",
       " 'overall_precision': 0.0,\n",
       " 'overall_recall': 0.0,\n",
       " 'overall_f1': 0.0,\n",
       " 'overall_accuracy': 0.0}"
      ]
     },
     "execution_count": 71,
     "metadata": {},
     "output_type": "execute_result"
    }
   ],
   "source": [
    "seqeval.compute(predictions=predictions, references=references)"
   ]
  },
  {
   "cell_type": "code",
   "execution_count": null,
   "id": "c8352ed0-89fd-4ebc-9d82-0e3a8d0e37c0",
   "metadata": {},
   "outputs": [],
   "source": [
    "seqeval.add_batch"
   ]
  }
 ],
 "metadata": {
  "kernelspec": {
   "display_name": "py38",
   "language": "python",
   "name": "py38"
  },
  "language_info": {
   "codemirror_mode": {
    "name": "ipython",
    "version": 3
   },
   "file_extension": ".py",
   "mimetype": "text/x-python",
   "name": "python",
   "nbconvert_exporter": "python",
   "pygments_lexer": "ipython3",
   "version": "3.8.8"
  }
 },
 "nbformat": 4,
 "nbformat_minor": 5
}
