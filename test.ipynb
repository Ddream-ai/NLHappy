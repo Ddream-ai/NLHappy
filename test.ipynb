{
 "cells": [
  {
   "cell_type": "code",
   "execution_count": 9,
   "metadata": {},
   "outputs": [],
   "source": [
    "import torch\n",
    "import math"
   ]
  },
  {
   "cell_type": "code",
   "execution_count": 26,
   "metadata": {},
   "outputs": [
    {
     "data": {
      "text/plain": [
       "tensor([[0],\n",
       "        [1],\n",
       "        [2],\n",
       "        [3],\n",
       "        [4]])"
      ]
     },
     "execution_count": 26,
     "metadata": {},
     "output_type": "execute_result"
    }
   ],
   "source": [
    "position = torch.arange(0, 5).unsqueeze(1)\n",
    "position"
   ]
  },
  {
   "cell_type": "code",
   "execution_count": 24,
   "metadata": {},
   "outputs": [
    {
     "data": {
      "text/plain": [
       "tensor([1.0000e+00, 2.9286e-01, 8.5770e-02, 2.5119e-02, 7.3564e-03, 2.1544e-03,\n",
       "        6.3096e-04, 1.8479e-04])"
      ]
     },
     "execution_count": 24,
     "metadata": {},
     "output_type": "execute_result"
    }
   ],
   "source": [
    "div = torch.exp(torch.arange(0,15,2).float()*(-math.log(10000.0)/15))\n",
    "div"
   ]
  },
  {
   "cell_type": "code",
   "execution_count": 36,
   "metadata": {},
   "outputs": [
    {
     "data": {
      "text/plain": [
       "tensor([[0.0000e+00, 0.0000e+00, 0.0000e+00, 0.0000e+00, 0.0000e+00, 0.0000e+00,\n",
       "         0.0000e+00, 0.0000e+00],\n",
       "        [1.0000e+00, 2.9286e-01, 8.5770e-02, 2.5119e-02, 7.3564e-03, 2.1544e-03,\n",
       "         6.3096e-04, 1.8479e-04],\n",
       "        [2.0000e+00, 5.8573e-01, 1.7154e-01, 5.0238e-02, 1.4713e-02, 4.3089e-03,\n",
       "         1.2619e-03, 3.6957e-04],\n",
       "        [3.0000e+00, 8.7859e-01, 2.5731e-01, 7.5357e-02, 2.2069e-02, 6.4633e-03,\n",
       "         1.8929e-03, 5.5436e-04],\n",
       "        [4.0000e+00, 1.1715e+00, 3.4308e-01, 1.0048e-01, 2.9426e-02, 8.6177e-03,\n",
       "         2.5238e-03, 7.3914e-04]])"
      ]
     },
     "execution_count": 36,
     "metadata": {},
     "output_type": "execute_result"
    }
   ],
   "source": [
    "position * div"
   ]
  },
  {
   "cell_type": "code",
   "execution_count": 22,
   "metadata": {},
   "outputs": [
    {
     "data": {
      "text/plain": [
       "tensor([[0., 0., 0., 0., 0., 0., 0., 0., 0., 0., 0., 0., 0., 0., 0.],\n",
       "        [0., 0., 0., 0., 0., 0., 0., 0., 0., 0., 0., 0., 0., 0., 0.],\n",
       "        [0., 0., 0., 0., 0., 0., 0., 0., 0., 0., 0., 0., 0., 0., 0.],\n",
       "        [0., 0., 0., 0., 0., 0., 0., 0., 0., 0., 0., 0., 0., 0., 0.],\n",
       "        [0., 0., 0., 0., 0., 0., 0., 0., 0., 0., 0., 0., 0., 0., 0.]])"
      ]
     },
     "execution_count": 22,
     "metadata": {},
     "output_type": "execute_result"
    }
   ],
   "source": [
    "pe = torch.zeros(5, 15)\n",
    "pe"
   ]
  },
  {
   "cell_type": "code",
   "execution_count": 31,
   "metadata": {},
   "outputs": [
    {
     "data": {
      "text/plain": [
       "tensor([[ 0.0000e+00,  0.0000e+00,  0.0000e+00,  0.0000e+00,  0.0000e+00,\n",
       "          0.0000e+00,  0.0000e+00,  0.0000e+00],\n",
       "        [ 8.4147e-01,  2.8870e-01,  8.5664e-02,  2.5116e-02,  7.3564e-03,\n",
       "          2.1544e-03,  6.3096e-04,  1.8479e-04],\n",
       "        [ 9.0930e-01,  5.5281e-01,  1.7070e-01,  5.0217e-02,  1.4712e-02,\n",
       "          4.3089e-03,  1.2619e-03,  3.6957e-04],\n",
       "        [ 1.4112e-01,  7.6984e-01,  2.5448e-01,  7.5285e-02,  2.2067e-02,\n",
       "          6.4633e-03,  1.8929e-03,  5.5436e-04],\n",
       "        [-7.5680e-01,  9.2132e-01,  3.3639e-01,  1.0031e-01,  2.9421e-02,\n",
       "          8.6176e-03,  2.5238e-03,  7.3914e-04]])"
      ]
     },
     "execution_count": 31,
     "metadata": {},
     "output_type": "execute_result"
    }
   ],
   "source": [
    "s = torch.sin(position * div)\n",
    "s"
   ]
  },
  {
   "cell_type": "code",
   "execution_count": 32,
   "metadata": {},
   "outputs": [],
   "source": [
    "pe[:, 0::2] = s"
   ]
  },
  {
   "cell_type": "code",
   "execution_count": 33,
   "metadata": {},
   "outputs": [
    {
     "data": {
      "text/plain": [
       "tensor([[ 0.0000e+00,  0.0000e+00,  0.0000e+00,  0.0000e+00,  0.0000e+00,\n",
       "          0.0000e+00,  0.0000e+00,  0.0000e+00,  0.0000e+00,  0.0000e+00,\n",
       "          0.0000e+00,  0.0000e+00,  0.0000e+00,  0.0000e+00,  0.0000e+00],\n",
       "        [ 8.4147e-01,  0.0000e+00,  2.8870e-01,  0.0000e+00,  8.5664e-02,\n",
       "          0.0000e+00,  2.5116e-02,  0.0000e+00,  7.3564e-03,  0.0000e+00,\n",
       "          2.1544e-03,  0.0000e+00,  6.3096e-04,  0.0000e+00,  1.8479e-04],\n",
       "        [ 9.0930e-01,  0.0000e+00,  5.5281e-01,  0.0000e+00,  1.7070e-01,\n",
       "          0.0000e+00,  5.0217e-02,  0.0000e+00,  1.4712e-02,  0.0000e+00,\n",
       "          4.3089e-03,  0.0000e+00,  1.2619e-03,  0.0000e+00,  3.6957e-04],\n",
       "        [ 1.4112e-01,  0.0000e+00,  7.6984e-01,  0.0000e+00,  2.5448e-01,\n",
       "          0.0000e+00,  7.5285e-02,  0.0000e+00,  2.2067e-02,  0.0000e+00,\n",
       "          6.4633e-03,  0.0000e+00,  1.8929e-03,  0.0000e+00,  5.5436e-04],\n",
       "        [-7.5680e-01,  0.0000e+00,  9.2132e-01,  0.0000e+00,  3.3639e-01,\n",
       "          0.0000e+00,  1.0031e-01,  0.0000e+00,  2.9421e-02,  0.0000e+00,\n",
       "          8.6176e-03,  0.0000e+00,  2.5238e-03,  0.0000e+00,  7.3914e-04]])"
      ]
     },
     "execution_count": 33,
     "metadata": {},
     "output_type": "execute_result"
    }
   ],
   "source": [
    "pe"
   ]
  },
  {
   "cell_type": "code",
   "execution_count": 47,
   "metadata": {},
   "outputs": [
    {
     "data": {
      "text/plain": [
       "tensor([[ 0,  1,  2,  3,  4,  5,  6,  7,  8,  9],\n",
       "        [-1,  0,  1,  2,  3,  4,  5,  6,  7,  8],\n",
       "        [-2, -1,  0,  1,  2,  3,  4,  5,  6,  7],\n",
       "        [-3, -2, -1,  0,  1,  2,  3,  4,  5,  6],\n",
       "        [-4, -3, -2, -1,  0,  1,  2,  3,  4,  5],\n",
       "        [-5, -4, -3, -2, -1,  0,  1,  2,  3,  4],\n",
       "        [-6, -5, -4, -3, -2, -1,  0,  1,  2,  3],\n",
       "        [-7, -6, -5, -4, -3, -2, -1,  0,  1,  2],\n",
       "        [-8, -7, -6, -5, -4, -3, -2, -1,  0,  1],\n",
       "        [-9, -8, -7, -6, -5, -4, -3, -2, -1,  0]])"
      ]
     },
     "execution_count": 47,
     "metadata": {},
     "output_type": "execute_result"
    }
   ],
   "source": [
    "mat = torch.arange(10)[None] - torch.arange(10)[:,None]\n",
    "mat"
   ]
  },
  {
   "cell_type": "code",
   "execution_count": 42,
   "metadata": {},
   "outputs": [
    {
     "data": {
      "text/plain": [
       "tensor([[0],\n",
       "        [1],\n",
       "        [2],\n",
       "        [3],\n",
       "        [4],\n",
       "        [5],\n",
       "        [6],\n",
       "        [7]])"
      ]
     },
     "execution_count": 42,
     "metadata": {},
     "output_type": "execute_result"
    }
   ],
   "source": [
    "torch.arange(8)[:,None]"
   ]
  },
  {
   "cell_type": "code",
   "execution_count": 48,
   "metadata": {},
   "outputs": [
    {
     "data": {
      "text/plain": [
       "tensor([[4, 5, 6, 7, 8, 8, 8, 8, 8, 8],\n",
       "        [3, 4, 5, 6, 7, 8, 8, 8, 8, 8],\n",
       "        [2, 3, 4, 5, 6, 7, 8, 8, 8, 8],\n",
       "        [1, 2, 3, 4, 5, 6, 7, 8, 8, 8],\n",
       "        [0, 1, 2, 3, 4, 5, 6, 7, 8, 8],\n",
       "        [0, 0, 1, 2, 3, 4, 5, 6, 7, 8],\n",
       "        [0, 0, 0, 1, 2, 3, 4, 5, 6, 7],\n",
       "        [0, 0, 0, 0, 1, 2, 3, 4, 5, 6],\n",
       "        [0, 0, 0, 0, 0, 1, 2, 3, 4, 5],\n",
       "        [0, 0, 0, 0, 0, 0, 1, 2, 3, 4]])"
      ]
     },
     "execution_count": 48,
     "metadata": {},
     "output_type": "execute_result"
    }
   ],
   "source": [
    "torch.clamp(mat, -4, 4) + 4"
   ]
  },
  {
   "cell_type": "code",
   "execution_count": 1,
   "metadata": {},
   "outputs": [
    {
     "ename": "ModuleNotFoundError",
     "evalue": "No module named 'transformers'",
     "output_type": "error",
     "traceback": [
      "\u001b[0;31m---------------------------------------------------------------------------\u001b[0m",
      "\u001b[0;31mModuleNotFoundError\u001b[0m                       Traceback (most recent call last)",
      "\u001b[1;32m/Users/wangmengdi/projects/nlhappy/test.ipynb Cell 12'\u001b[0m in \u001b[0;36m<cell line: 1>\u001b[0;34m()\u001b[0m\n\u001b[0;32m----> <a href='vscode-notebook-cell:/Users/wangmengdi/projects/nlhappy/test.ipynb#ch0000011?line=0'>1</a>\u001b[0m \u001b[39mfrom\u001b[39;00m \u001b[39mnlhappy\u001b[39;00m\u001b[39m.\u001b[39;00m\u001b[39mlayers\u001b[39;00m\u001b[39m.\u001b[39;00m\u001b[39membedding\u001b[39;00m\u001b[39m.\u001b[39;00m\u001b[39mposition_embedding\u001b[39;00m \u001b[39mimport\u001b[39;00m SinusoidalPositionEmbedding\n",
      "File \u001b[0;32m~/projects/nlhappy/nlhappy/__init__.py:1\u001b[0m, in \u001b[0;36m<module>\u001b[0;34m\u001b[0m\n\u001b[0;32m----> <a href='file:///Users/wangmengdi/projects/nlhappy/nlhappy/__init__.py?line=0'>1</a>\u001b[0m \u001b[39mfrom\u001b[39;00m \u001b[39m.\u001b[39;00m\u001b[39mcomponents\u001b[39;00m\u001b[39m.\u001b[39;00m\u001b[39mtokenizer\u001b[39;00m \u001b[39mimport\u001b[39;00m CharTokenizer\n\u001b[1;32m      <a href='file:///Users/wangmengdi/projects/nlhappy/nlhappy/__init__.py?line=1'>2</a>\u001b[0m \u001b[39mimport\u001b[39;00m \u001b[39mspacy\u001b[39;00m\n\u001b[1;32m      <a href='file:///Users/wangmengdi/projects/nlhappy/nlhappy/__init__.py?line=5'>6</a>\u001b[0m \u001b[39mdef\u001b[39;00m \u001b[39mmake_zh_nlp\u001b[39m(tokenize_type: \u001b[39mstr\u001b[39m \u001b[39m=\u001b[39m \u001b[39m'\u001b[39m\u001b[39mchar\u001b[39m\u001b[39m'\u001b[39m):\n",
      "File \u001b[0;32m~/projects/nlhappy/nlhappy/components/__init__.py:1\u001b[0m, in \u001b[0;36m<module>\u001b[0;34m\u001b[0m\n\u001b[0;32m----> <a href='file:///Users/wangmengdi/projects/nlhappy/nlhappy/components/__init__.py?line=0'>1</a>\u001b[0m \u001b[39mfrom\u001b[39;00m \u001b[39m.\u001b[39;00m\u001b[39mspan_classifier\u001b[39;00m \u001b[39mimport\u001b[39;00m make_spancat\n\u001b[1;32m      <a href='file:///Users/wangmengdi/projects/nlhappy/nlhappy/components/__init__.py?line=1'>2</a>\u001b[0m \u001b[39mfrom\u001b[39;00m \u001b[39m.\u001b[39;00m\u001b[39mtoken_classifier\u001b[39;00m \u001b[39mimport\u001b[39;00m make_tokencat\n\u001b[1;32m      <a href='file:///Users/wangmengdi/projects/nlhappy/nlhappy/components/__init__.py?line=2'>3</a>\u001b[0m \u001b[39mfrom\u001b[39;00m \u001b[39m.\u001b[39;00m\u001b[39mtext_classifier\u001b[39;00m \u001b[39mimport\u001b[39;00m make_text_classification\n",
      "File \u001b[0;32m~/projects/nlhappy/nlhappy/components/span_classifier.py:2\u001b[0m, in \u001b[0;36m<module>\u001b[0;34m\u001b[0m\n\u001b[1;32m      <a href='file:///Users/wangmengdi/projects/nlhappy/nlhappy/components/span_classifier.py?line=0'>1</a>\u001b[0m \u001b[39mimport\u001b[39;00m \u001b[39mshutil\u001b[39;00m\n\u001b[0;32m----> <a href='file:///Users/wangmengdi/projects/nlhappy/nlhappy/components/span_classifier.py?line=1'>2</a>\u001b[0m \u001b[39mfrom\u001b[39;00m \u001b[39m.\u001b[39;00m\u001b[39m.\u001b[39;00m\u001b[39mmodels\u001b[39;00m \u001b[39mimport\u001b[39;00m BertGlobalPointer\n\u001b[1;32m      <a href='file:///Users/wangmengdi/projects/nlhappy/nlhappy/components/span_classifier.py?line=2'>3</a>\u001b[0m \u001b[39mfrom\u001b[39;00m \u001b[39mspacy\u001b[39;00m\u001b[39m.\u001b[39;00m\u001b[39mlang\u001b[39;00m\u001b[39m.\u001b[39;00m\u001b[39mzh\u001b[39;00m \u001b[39mimport\u001b[39;00m Chinese\n\u001b[1;32m      <a href='file:///Users/wangmengdi/projects/nlhappy/nlhappy/components/span_classifier.py?line=3'>4</a>\u001b[0m \u001b[39mfrom\u001b[39;00m \u001b[39m.\u001b[39;00m\u001b[39m.\u001b[39;00m\u001b[39mmodels\u001b[39;00m \u001b[39mimport\u001b[39;00m BertGlobalPointer\n",
      "File \u001b[0;32m~/projects/nlhappy/nlhappy/models/__init__.py:1\u001b[0m, in \u001b[0;36m<module>\u001b[0;34m\u001b[0m\n\u001b[0;32m----> <a href='file:///Users/wangmengdi/projects/nlhappy/nlhappy/models/__init__.py?line=0'>1</a>\u001b[0m \u001b[39mfrom\u001b[39;00m \u001b[39m.\u001b[39;00m\u001b[39mtoken_classification\u001b[39;00m \u001b[39mimport\u001b[39;00m BertTokenClassification, BertCRF\n\u001b[1;32m      <a href='file:///Users/wangmengdi/projects/nlhappy/nlhappy/models/__init__.py?line=1'>2</a>\u001b[0m \u001b[39mfrom\u001b[39;00m \u001b[39m.\u001b[39;00m\u001b[39mspan_classification\u001b[39;00m \u001b[39mimport\u001b[39;00m BertGlobalPointer\n\u001b[1;32m      <a href='file:///Users/wangmengdi/projects/nlhappy/nlhappy/models/__init__.py?line=2'>3</a>\u001b[0m \u001b[39mfrom\u001b[39;00m \u001b[39m.\u001b[39;00m\u001b[39mtext_classification\u001b[39;00m \u001b[39mimport\u001b[39;00m BertTextClassification\n",
      "File \u001b[0;32m~/projects/nlhappy/nlhappy/models/token_classification/__init__.py:1\u001b[0m, in \u001b[0;36m<module>\u001b[0;34m\u001b[0m\n\u001b[0;32m----> <a href='file:///Users/wangmengdi/projects/nlhappy/nlhappy/models/token_classification/__init__.py?line=0'>1</a>\u001b[0m \u001b[39mfrom\u001b[39;00m \u001b[39m.\u001b[39;00m\u001b[39mbert_token_classification\u001b[39;00m \u001b[39mimport\u001b[39;00m BertTokenClassification\n\u001b[1;32m      <a href='file:///Users/wangmengdi/projects/nlhappy/nlhappy/models/token_classification/__init__.py?line=1'>2</a>\u001b[0m \u001b[39mfrom\u001b[39;00m \u001b[39m.\u001b[39;00m\u001b[39mbert_crf\u001b[39;00m \u001b[39mimport\u001b[39;00m BertCRF\n\u001b[1;32m      <a href='file:///Users/wangmengdi/projects/nlhappy/nlhappy/models/token_classification/__init__.py?line=2'>3</a>\u001b[0m \u001b[39mfrom\u001b[39;00m \u001b[39m.\u001b[39;00m\u001b[39mbert_lstm_crf\u001b[39;00m \u001b[39mimport\u001b[39;00m BertLstmCRF\n",
      "File \u001b[0;32m~/projects/nlhappy/nlhappy/models/token_classification/bert_token_classification.py:2\u001b[0m, in \u001b[0;36m<module>\u001b[0;34m\u001b[0m\n\u001b[1;32m      <a href='file:///Users/wangmengdi/projects/nlhappy/nlhappy/models/token_classification/bert_token_classification.py?line=0'>1</a>\u001b[0m \u001b[39mimport\u001b[39;00m \u001b[39mpytorch_lightning\u001b[39;00m \u001b[39mas\u001b[39;00m \u001b[39mpl\u001b[39;00m\n\u001b[0;32m----> <a href='file:///Users/wangmengdi/projects/nlhappy/nlhappy/models/token_classification/bert_token_classification.py?line=1'>2</a>\u001b[0m \u001b[39mfrom\u001b[39;00m \u001b[39mtransformers\u001b[39;00m \u001b[39mimport\u001b[39;00m BertModel, BertTokenizer\n\u001b[1;32m      <a href='file:///Users/wangmengdi/projects/nlhappy/nlhappy/models/token_classification/bert_token_classification.py?line=2'>3</a>\u001b[0m \u001b[39mfrom\u001b[39;00m \u001b[39mdatasets\u001b[39;00m \u001b[39mimport\u001b[39;00m load_metric\n\u001b[1;32m      <a href='file:///Users/wangmengdi/projects/nlhappy/nlhappy/models/token_classification/bert_token_classification.py?line=3'>4</a>\u001b[0m \u001b[39mimport\u001b[39;00m \u001b[39mtorch\u001b[39;00m\n",
      "\u001b[0;31mModuleNotFoundError\u001b[0m: No module named 'transformers'"
     ]
    }
   ],
   "source": [
    "from nlhappy.layers.embedding.position_embedding import SinusoidalPositionEmbedding"
   ]
  },
  {
   "cell_type": "code",
   "execution_count": null,
   "metadata": {},
   "outputs": [],
   "source": []
  }
 ],
 "metadata": {
  "interpreter": {
   "hash": "b114295533213be714c497b6c7c7c36862ca698da8b4418201631177dea05d47"
  },
  "kernelspec": {
   "display_name": "Python 3.7.10 ('base')",
   "language": "python",
   "name": "python3"
  },
  "language_info": {
   "codemirror_mode": {
    "name": "ipython",
    "version": 3
   },
   "file_extension": ".py",
   "mimetype": "text/x-python",
   "name": "python",
   "nbconvert_exporter": "python",
   "pygments_lexer": "ipython3",
   "version": "3.8.11"
  },
  "orig_nbformat": 4
 },
 "nbformat": 4,
 "nbformat_minor": 2
}
